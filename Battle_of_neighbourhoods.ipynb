{
  "nbformat": 4,
  "nbformat_minor": 0,
  "metadata": {
    "kernelspec": {
      "display_name": "Python 3.6",
      "language": "python",
      "name": "python3"
    },
    "language_info": {
      "codemirror_mode": {
        "name": "ipython",
        "version": 3
      },
      "file_extension": ".py",
      "mimetype": "text/x-python",
      "name": "python",
      "nbconvert_exporter": "python",
      "pygments_lexer": "ipython3",
      "version": "3.6.8"
    },
    "colab": {
      "name": "Battle of neighbourhoods.ipynb",
      "provenance": []
    }
  },
  "cells": [
    {
      "cell_type": "markdown",
      "metadata": {
        "collapsed": true,
        "id": "Ng0VTDII1Tb_",
        "colab_type": "text"
      },
      "source": [
        "# **Coursera Capstone Project**"
      ]
    },
    {
      "cell_type": "markdown",
      "metadata": {
        "id": "YpMc7buY1TcO",
        "colab_type": "text"
      },
      "source": [
        "# ***The Battle of Neighborhoods (Week 1)***"
      ]
    },
    {
      "cell_type": "markdown",
      "metadata": {
        "id": "-9auRxeL1TcT",
        "colab_type": "text"
      },
      "source": [
        "#**1.Introduction To Problem**"
      ]
    },
    {
      "cell_type": "markdown",
      "metadata": {
        "id": "V22Ryt0d1Tcy",
        "colab_type": "text"
      },
      "source": [
        "### Business Problem:"
      ]
    },
    {
      "cell_type": "markdown",
      "metadata": {
        "id": "wej6cUx01Tc3",
        "colab_type": "text"
      },
      "source": [
        "The challenge is to find a suitable apartment for rent near Hyderabad that complies with the demands on location, price and venues. The data required to resolve this challenge is described in the following section 2, below."
      ]
    },
    {
      "cell_type": "markdown",
      "metadata": {
        "id": "YG-KKHyV1TdU",
        "colab_type": "text"
      },
      "source": [
        "# **2.Data Section**"
      ]
    },
    {
      "cell_type": "markdown",
      "metadata": {
        "id": "vFcGqHZh1TdZ",
        "colab_type": "text"
      },
      "source": [
        "### Description of the data and its sources that will be used to solve the problem"
      ]
    },
    {
      "cell_type": "markdown",
      "metadata": {
        "id": "2ESYPfGP1Tde",
        "colab_type": "text"
      },
      "source": [
        "### Description of the Data"
      ]
    },
    {
      "cell_type": "markdown",
      "metadata": {
        "id": "PT6rKqIz1Tdr",
        "colab_type": "text"
      },
      "source": [
        "The following data is required to answer the issues of the problem:\n",
        "\n",
        "* List of Boroughs and neighborhoods of secunderabad with their geodata (latitude and longitude)\n",
        "* List of Subway metro stations in secunderabad with their address location\n",
        "* List of apartments for rent in secunderabad area with their addresses and price\n",
        "* Preferably, a list of apartment for rent with additional information, such as price, address, area, # of beds, etc\n",
        "* Venues for each secunderabad neighborhood ( than can be clustered)\n",
        "* Venues for subway metro stations, as needed"
      ]
    },
    {
      "cell_type": "markdown",
      "metadata": {
        "id": "mC47PPdl1Tdv",
        "colab_type": "text"
      },
      "source": [
        "# **Solution for the problem**"
      ]
    },
    {
      "cell_type": "code",
      "metadata": {
        "id": "dizEfjOv1Td6",
        "colab_type": "code",
        "colab": {
          "base_uri": "https://localhost:8080/",
          "height": 54
        },
        "outputId": "3df57269-f379-4042-beee-598062b80583"
      },
      "source": [
        "import numpy as np # library to handle data in a vectorized manner\n",
        "import time\n",
        "import pandas as pd # library for data analsysis\n",
        "pd.set_option('display.max_columns', None)\n",
        "pd.set_option('display.max_rows', None)\n",
        "\n",
        "import json # library to handle JSON files\n",
        "import requests # library to handle requests\n",
        "from pandas.io.json import json_normalize # tranform JSON file into a pandas dataframe\n",
        "\n",
        "from geopy.geocoders import Nominatim # convert an address into latitude and longitude values\n",
        "!conda install -c conda-forge folium=0.5.0 --yes # uncomment this line if you haven't completed the Foursquare API lab\n",
        "import folium # map rendering library\n",
        "\n",
        "print('Libraries imported.')"
      ],
      "execution_count": 1,
      "outputs": [
        {
          "output_type": "stream",
          "text": [
            "/bin/bash: conda: command not found\n",
            "Libraries imported.\n"
          ],
          "name": "stdout"
        }
      ]
    },
    {
      "cell_type": "code",
      "metadata": {
        "id": "EbswvCV31Teq",
        "colab_type": "code",
        "colab": {
          "base_uri": "https://localhost:8080/",
          "height": 92
        },
        "outputId": "6dff2f26-e3bf-474a-eadd-2972125beea8"
      },
      "source": [
        "address = 'secunderabad,IN'\n",
        "\n",
        "geolocator = Nominatim()\n",
        "location = geolocator.geocode(address)\n",
        "latitude = location.latitude\n",
        "longitude = location.longitude\n",
        "print('The geograpical coordinate of Secundrabad(Hyderabad),India are {}, {}.'.format(latitude, longitude))"
      ],
      "execution_count": 24,
      "outputs": [
        {
          "output_type": "stream",
          "text": [
            "/usr/local/lib/python3.6/dist-packages/geopy/geocoders/osm.py:143: UserWarning: Using Nominatim with the default \"geopy/1.17.0\" `user_agent` is strongly discouraged, as it violates Nominatim's ToS https://operations.osmfoundation.org/policies/nominatim/ and may possibly cause 403 and 429 HTTP errors. Please specify a custom `user_agent` with `Nominatim(user_agent=\"my-application\")` or by overriding the default `user_agent`: `geopy.geocoders.options.default_user_agent = \"my-application\"`. In geopy 2.0 this will become an exception.\n",
            "  UserWarning\n"
          ],
          "name": "stderr"
        },
        {
          "output_type": "stream",
          "text": [
            "The geograpical coordinate of Secundrabad(Hyderabad),India are 17.4435509, 78.4961766.\n"
          ],
          "name": "stdout"
        }
      ]
    },
    {
      "cell_type": "code",
      "metadata": {
        "id": "mS6C6ZFA1Tfa",
        "colab_type": "code",
        "colab": {}
      },
      "source": [
        "\n",
        "neighborhood_latitude=17.434227\n",
        "neighborhood_longitude=78.386659"
      ],
      "execution_count": 17,
      "outputs": []
    },
    {
      "cell_type": "code",
      "metadata": {
        "id": "nxZMzKk11Tfo",
        "colab_type": "code",
        "colab": {
          "base_uri": "https://localhost:8080/",
          "height": 55
        },
        "outputId": "dccbbed8-a951-404a-a292-5f741cb6c14a"
      },
      "source": [
        "LIMIT = 100 # limit of number of venues returned by Foursquare API\n",
        "radius = 500 # define radius\n",
        "CLIENT_ID = 'VWREFNGMYCW5LX54RV42VS4G1U1Z4QJ55JY3NXAZXCRGYNUS' # your Foursquare ID\n",
        "CLIENT_SECRET = '555Q0NH0RPQ5LVZPZ2Q1JBOYGRBBNKY4O222GRATAPCQQFQS' # your Foursquare Secret\n",
        "VERSION = '20180604'\n",
        "# create URL\n",
        "url = 'https://api.foursquare.com/v2/venues/explore?&client_id={}&client_secret={}&v={}&ll={},{}&radius={}&limit={}'.format(\n",
        "    CLIENT_ID, \n",
        "    CLIENT_SECRET, \n",
        "    VERSION, \n",
        "    neighborhood_latitude, \n",
        "    neighborhood_longitude, \n",
        "    radius, \n",
        "    LIMIT)\n",
        "url # display URL"
      ],
      "execution_count": 18,
      "outputs": [
        {
          "output_type": "execute_result",
          "data": {
            "text/plain": [
              "'https://api.foursquare.com/v2/venues/explore?&client_id=VWREFNGMYCW5LX54RV42VS4G1U1Z4QJ55JY3NXAZXCRGYNUS&client_secret=555Q0NH0RPQ5LVZPZ2Q1JBOYGRBBNKY4O222GRATAPCQQFQS&v=20180604&ll=17.434227,78.386659&radius=500&limit=100'"
            ]
          },
          "metadata": {
            "tags": []
          },
          "execution_count": 18
        }
      ]
    },
    {
      "cell_type": "code",
      "metadata": {
        "id": "9ATweL_P1TgH",
        "colab_type": "code",
        "colab": {}
      },
      "source": [
        "results = requests.get(url).json()\n",
        "#results"
      ],
      "execution_count": 19,
      "outputs": []
    },
    {
      "cell_type": "code",
      "metadata": {
        "id": "7Ne7gc_h1TgR",
        "colab_type": "code",
        "colab": {}
      },
      "source": [
        "def get_category_type(row):\n",
        "    try:\n",
        "        categories_list = row['categories']\n",
        "    except:\n",
        "        categories_list = row['venue.categories']\n",
        "        \n",
        "    if len(categories_list) == 0:\n",
        "        return None\n",
        "    else:\n",
        "        return categories_list[0]['name']"
      ],
      "execution_count": 20,
      "outputs": []
    },
    {
      "cell_type": "code",
      "metadata": {
        "id": "wgPLAKaa1Tgj",
        "colab_type": "code",
        "colab": {
          "base_uri": "https://localhost:8080/",
          "height": 420
        },
        "outputId": "d0abb058-1f50-4ec7-ca29-49ac35868ff4"
      },
      "source": [
        "venues = results['response']['groups'][0]['items']\n",
        "    \n",
        "nearby_venues = json_normalize(venues) # flatten JSON\n",
        "\n",
        "# filter columns\n",
        "filtered_columns = ['venue.name', 'venue.categories', 'venue.location.lat', 'venue.location.lng']\n",
        "nearby_venues =nearby_venues.loc[:, filtered_columns]\n",
        "\n",
        "# filter the category for each row\n",
        "nearby_venues['venue.categories'] = nearby_venues.apply(get_category_type, axis=1)\n",
        "\n",
        "# clean columns\n",
        "nearby_venues.columns = [col.split(\".\")[-1] for col in nearby_venues.columns]\n",
        "\n",
        "nearby_venues.head(10)"
      ],
      "execution_count": 21,
      "outputs": [
        {
          "output_type": "stream",
          "text": [
            "/usr/local/lib/python3.6/dist-packages/ipykernel_launcher.py:3: FutureWarning: pandas.io.json.json_normalize is deprecated, use pandas.json_normalize instead\n",
            "  This is separate from the ipykernel package so we can avoid doing imports until\n"
          ],
          "name": "stderr"
        },
        {
          "output_type": "execute_result",
          "data": {
            "text/html": [
              "<div>\n",
              "<style scoped>\n",
              "    .dataframe tbody tr th:only-of-type {\n",
              "        vertical-align: middle;\n",
              "    }\n",
              "\n",
              "    .dataframe tbody tr th {\n",
              "        vertical-align: top;\n",
              "    }\n",
              "\n",
              "    .dataframe thead th {\n",
              "        text-align: right;\n",
              "    }\n",
              "</style>\n",
              "<table border=\"1\" class=\"dataframe\">\n",
              "  <thead>\n",
              "    <tr style=\"text-align: right;\">\n",
              "      <th></th>\n",
              "      <th>name</th>\n",
              "      <th>categories</th>\n",
              "      <th>lat</th>\n",
              "      <th>lng</th>\n",
              "    </tr>\n",
              "  </thead>\n",
              "  <tbody>\n",
              "    <tr>\n",
              "      <th>0</th>\n",
              "      <td>Cream Stone Creations</td>\n",
              "      <td>Ice Cream Shop</td>\n",
              "      <td>17.434191</td>\n",
              "      <td>78.386829</td>\n",
              "    </tr>\n",
              "    <tr>\n",
              "      <th>1</th>\n",
              "      <td>Inorbit Mall</td>\n",
              "      <td>Shopping Mall</td>\n",
              "      <td>17.433610</td>\n",
              "      <td>78.386207</td>\n",
              "    </tr>\n",
              "    <tr>\n",
              "      <th>2</th>\n",
              "      <td>Chutneys</td>\n",
              "      <td>Vegetarian / Vegan Restaurant</td>\n",
              "      <td>17.434254</td>\n",
              "      <td>78.386864</td>\n",
              "    </tr>\n",
              "    <tr>\n",
              "      <th>3</th>\n",
              "      <td>KFC</td>\n",
              "      <td>Fast Food Restaurant</td>\n",
              "      <td>17.434201</td>\n",
              "      <td>78.386809</td>\n",
              "    </tr>\n",
              "    <tr>\n",
              "      <th>4</th>\n",
              "      <td>Fusion 9</td>\n",
              "      <td>Lounge</td>\n",
              "      <td>17.434292</td>\n",
              "      <td>78.386714</td>\n",
              "    </tr>\n",
              "    <tr>\n",
              "      <th>5</th>\n",
              "      <td>News Cafe</td>\n",
              "      <td>Cocktail Bar</td>\n",
              "      <td>17.434421</td>\n",
              "      <td>78.386998</td>\n",
              "    </tr>\n",
              "    <tr>\n",
              "      <th>6</th>\n",
              "      <td>Food Court @ Inorbit Mall</td>\n",
              "      <td>Food Court</td>\n",
              "      <td>17.434199</td>\n",
              "      <td>78.386831</td>\n",
              "    </tr>\n",
              "    <tr>\n",
              "      <th>7</th>\n",
              "      <td>4 seasons</td>\n",
              "      <td>Indian Restaurant</td>\n",
              "      <td>17.434258</td>\n",
              "      <td>78.386713</td>\n",
              "    </tr>\n",
              "    <tr>\n",
              "      <th>8</th>\n",
              "      <td>Shoppers Stop</td>\n",
              "      <td>Shopping Mall</td>\n",
              "      <td>17.434255</td>\n",
              "      <td>78.386849</td>\n",
              "    </tr>\n",
              "    <tr>\n",
              "      <th>9</th>\n",
              "      <td>BeerHouse</td>\n",
              "      <td>Beer Garden</td>\n",
              "      <td>17.434291</td>\n",
              "      <td>78.386993</td>\n",
              "    </tr>\n",
              "  </tbody>\n",
              "</table>\n",
              "</div>"
            ],
            "text/plain": [
              "                        name                     categories        lat  \\\n",
              "0      Cream Stone Creations                 Ice Cream Shop  17.434191   \n",
              "1               Inorbit Mall                  Shopping Mall  17.433610   \n",
              "2                   Chutneys  Vegetarian / Vegan Restaurant  17.434254   \n",
              "3                        KFC           Fast Food Restaurant  17.434201   \n",
              "4                   Fusion 9                         Lounge  17.434292   \n",
              "5                  News Cafe                   Cocktail Bar  17.434421   \n",
              "6  Food Court @ Inorbit Mall                     Food Court  17.434199   \n",
              "7                  4 seasons              Indian Restaurant  17.434258   \n",
              "8              Shoppers Stop                  Shopping Mall  17.434255   \n",
              "9                  BeerHouse                    Beer Garden  17.434291   \n",
              "\n",
              "         lng  \n",
              "0  78.386829  \n",
              "1  78.386207  \n",
              "2  78.386864  \n",
              "3  78.386809  \n",
              "4  78.386714  \n",
              "5  78.386998  \n",
              "6  78.386831  \n",
              "7  78.386713  \n",
              "8  78.386849  \n",
              "9  78.386993  "
            ]
          },
          "metadata": {
            "tags": []
          },
          "execution_count": 21
        }
      ]
    },
    {
      "cell_type": "code",
      "metadata": {
        "id": "gfMbw-kA1ThB",
        "colab_type": "code",
        "colab": {
          "base_uri": "https://localhost:8080/",
          "height": 760
        },
        "outputId": "80ff7b95-7e3c-4b0f-c730-c5f852dc47ac"
      },
      "source": [
        "map_hyd = folium.Map(location=[latitude, longitude], zoom_start=17)\n",
        "\n",
        "# add markers to map\n",
        "for lat, lng, label in zip(nearby_venues['lat'], nearby_venues['lng'], nearby_venues['name']):\n",
        "    label = folium.Popup(label, parse_html=True)\n",
        "    folium.RegularPolygonMarker(\n",
        "        [lat, lng],\n",
        "        number_of_sides=4,\n",
        "        radius=10,\n",
        "        popup=label,\n",
        "        color='blue',\n",
        "        fill_color='#0f0f0f',\n",
        "        fill_opacity=0.7,\n",
        "    ).add_to(map_sg)  \n",
        "    \n",
        "map_hyd"
      ],
      "execution_count": 29,
      "outputs": [
        {
          "output_type": "execute_result",
          "data": {
            "text/html": [
              "<div style=\"width:100%;\"><div style=\"position:relative;width:100%;height:0;padding-bottom:60%;\"><span style=\"color:#565656\">Make this Notebook Trusted to load map: File -> Trust Notebook</span><iframe src=\"about:blank\" style=\"position:absolute;width:100%;height:100%;left:0;top:0;border:none !important;\" data-html=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 onload=\"this.contentDocument.open();this.contentDocument.write(atob(this.getAttribute('data-html')));this.contentDocument.close();\" allowfullscreen webkitallowfullscreen mozallowfullscreen></iframe></div></div>"
            ],
            "text/plain": [
              "<folium.folium.Map at 0x7feb21982080>"
            ]
          },
          "metadata": {
            "tags": []
          },
          "execution_count": 29
        }
      ]
    }
  ]
}